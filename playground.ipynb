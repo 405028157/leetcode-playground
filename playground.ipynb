{
 "metadata": {
  "language_info": {
   "codemirror_mode": {
    "name": "ipython",
    "version": 3
   },
   "file_extension": ".py",
   "mimetype": "text/x-python",
   "name": "python",
   "nbconvert_exporter": "python",
   "pygments_lexer": "ipython3",
   "version": "3.5.6"
  },
  "orig_nbformat": 2,
  "kernelspec": {
   "name": "python356jvsc74a57bd02f7af523eb1c8df02236c3c1e98794fe4d81535873fc03d2d08cd8255d530be2",
   "display_name": "Python 3.5.6 64-bit ('py35': conda)"
  },
  "metadata": {
   "interpreter": {
    "hash": "2f7af523eb1c8df02236c3c1e98794fe4d81535873fc03d2d08cd8255d530be2"
   }
  }
 },
 "nbformat": 4,
 "nbformat_minor": 2,
 "cells": [
  {
   "cell_type": "code",
   "execution_count": 1,
   "metadata": {},
   "outputs": [],
   "source": [
    "A = [1, 2, 3, 4, 10]\n",
    "def binarySearch(A, target):\n",
    "    start, end = 0, A.length - 1\n",
    "    while start <= end:\n",
    "        mid = int((start + end) / 2)\n",
    "        if A[mid] < target: \n",
    "            start = mid + 1 # 既然A[mid]不等target，就不要留恋，无论start和end，都不要取这个值了，这样才能迅速逼近范围\n",
    "        elif A[mid] > target:\n",
    "            end = mid - 1"
   ]
  },
  {
   "cell_type": "code",
   "execution_count": 6,
   "metadata": {},
   "outputs": [],
   "source": [
    "a = int((1+2) / 2)"
   ]
  },
  {
   "cell_type": "code",
   "execution_count": null,
   "metadata": {},
   "outputs": [],
   "source": []
  }
 ]
}